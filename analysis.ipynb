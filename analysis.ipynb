{
 "cells": [
  {
   "cell_type": "markdown",
   "metadata": {},
   "source": [
    "Task: Build a decision tree classifier to predict whether a customer will purchase a product or service based on their demographic and behavioral data. Use a dataset such as the Bank Marketing dataset from the UCI Machine Learning Repository."
   ]
  },
  {
   "cell_type": "markdown",
   "metadata": {},
   "source": [
    "Step-1: Load the dataset into the environment"
   ]
  },
  {
   "cell_type": "code",
   "execution_count": 30,
   "metadata": {},
   "outputs": [],
   "source": [
    "import pandas as pd\n",
    "import numpy as np\n",
    "data=pd.read_csv('bank-full.csv')"
   ]
  },
  {
   "cell_type": "markdown",
   "metadata": {},
   "source": [
    "Step-2: Cleaning the dataset"
   ]
  },
  {
   "cell_type": "code",
   "execution_count": 31,
   "metadata": {},
   "outputs": [
    {
     "name": "stdout",
     "output_type": "stream",
     "text": [
      "Index(['age;\"job\";\"marital\";\"education\";\"default\";\"balance\";\"housing\";\"loan\";\"contact\";\"day\";\"month\";\"duration\";\"campaign\";\"pdays\";\"previous\";\"poutcome\";\"y\"'], dtype='object')\n"
     ]
    }
   ],
   "source": [
    "print(data.columns)"
   ]
  },
  {
   "cell_type": "code",
   "execution_count": 32,
   "metadata": {},
   "outputs": [
    {
     "name": "stdout",
     "output_type": "stream",
     "text": [
      "  age             job    marital    education default balance housing   loan  \\\n",
      "0  58    \"management\"  \"married\"   \"tertiary\"    \"no\"    2143   \"yes\"   \"no\"   \n",
      "1  44    \"technician\"   \"single\"  \"secondary\"    \"no\"      29   \"yes\"   \"no\"   \n",
      "2  33  \"entrepreneur\"  \"married\"  \"secondary\"    \"no\"       2   \"yes\"  \"yes\"   \n",
      "3  47   \"blue-collar\"  \"married\"    \"unknown\"    \"no\"    1506   \"yes\"   \"no\"   \n",
      "4  33       \"unknown\"   \"single\"    \"unknown\"    \"no\"       1    \"no\"   \"no\"   \n",
      "\n",
      "     contact day  month duration campaign pdays previous   poutcome     y  \n",
      "0  \"unknown\"   5  \"may\"      261        1    -1        0  \"unknown\"  \"no\"  \n",
      "1  \"unknown\"   5  \"may\"      151        1    -1        0  \"unknown\"  \"no\"  \n",
      "2  \"unknown\"   5  \"may\"       76        1    -1        0  \"unknown\"  \"no\"  \n",
      "3  \"unknown\"   5  \"may\"       92        1    -1        0  \"unknown\"  \"no\"  \n",
      "4  \"unknown\"   5  \"may\"      198        1    -1        0  \"unknown\"  \"no\"  \n"
     ]
    }
   ],
   "source": [
    "# we got to know that all columns are present in same column. this doesn't contribute to the algorithm. So we need to split the columns\n",
    "\n",
    "# split columns using a delimiter\n",
    "split_cols=data['age;\"job\";\"marital\";\"education\";\"default\";\"balance\";\"housing\";\"loan\";\"contact\";\"day\";\"month\";\"duration\";\"campaign\";\"pdays\";\"previous\";\"poutcome\";\"y\"'].str.split(';',expand=True)\n",
    "\n",
    "split_cols.columns = ['age', 'job', 'marital', 'education', 'default', 'balance', 'housing', 'loan', \n",
    "                      'contact', 'day', 'month', 'duration', 'campaign', 'pdays', 'previous', \n",
    "                      'poutcome', 'y']\n",
    "data=pd.concat([data.drop('age;\"job\";\"marital\";\"education\";\"default\";\"balance\";\"housing\";\"loan\";\"contact\";\"day\";\"month\";\"duration\";\"campaign\";\"pdays\";\"previous\";\"poutcome\";\"y\"',axis=1),split_cols],axis=1)\n",
    "print(data.head())\n",
    "# save the new DataFrame with separated columns\n",
    "data.to_csv('data_cleaned.csv',index=False)"
   ]
  },
  {
   "cell_type": "code",
   "execution_count": 33,
   "metadata": {},
   "outputs": [
    {
     "name": "stdout",
     "output_type": "stream",
     "text": [
      "   age             job    marital    education default  balance housing  \\\n",
      "0   58    \"management\"  \"married\"   \"tertiary\"    \"no\"     2143   \"yes\"   \n",
      "1   44    \"technician\"   \"single\"  \"secondary\"    \"no\"       29   \"yes\"   \n",
      "2   33  \"entrepreneur\"  \"married\"  \"secondary\"    \"no\"        2   \"yes\"   \n",
      "3   47   \"blue-collar\"  \"married\"    \"unknown\"    \"no\"     1506   \"yes\"   \n",
      "4   33       \"unknown\"   \"single\"    \"unknown\"    \"no\"        1    \"no\"   \n",
      "\n",
      "    loan    contact  day  month  duration  campaign  pdays  previous  \\\n",
      "0   \"no\"  \"unknown\"    5  \"may\"       261         1     -1         0   \n",
      "1   \"no\"  \"unknown\"    5  \"may\"       151         1     -1         0   \n",
      "2  \"yes\"  \"unknown\"    5  \"may\"        76         1     -1         0   \n",
      "3   \"no\"  \"unknown\"    5  \"may\"        92         1     -1         0   \n",
      "4   \"no\"  \"unknown\"    5  \"may\"       198         1     -1         0   \n",
      "\n",
      "    poutcome     y  \n",
      "0  \"unknown\"  \"no\"  \n",
      "1  \"unknown\"  \"no\"  \n",
      "2  \"unknown\"  \"no\"  \n",
      "3  \"unknown\"  \"no\"  \n",
      "4  \"unknown\"  \"no\"  \n",
      "age           int64\n",
      "job          object\n",
      "marital      object\n",
      "education    object\n",
      "default      object\n",
      "balance       int64\n",
      "housing      object\n",
      "loan         object\n",
      "contact      object\n",
      "day           int64\n",
      "month        object\n",
      "duration      int64\n",
      "campaign      int64\n",
      "pdays         int64\n",
      "previous      int64\n",
      "poutcome     object\n",
      "y            object\n",
      "dtype: object\n"
     ]
    }
   ],
   "source": [
    "# creating a new dataframe for the cleaned dataset\n",
    "df_cleaned=pd.read_csv('data_cleaned.csv')\n",
    "print(df_cleaned.head())\n",
    "print(df_cleaned.dtypes)"
   ]
  },
  {
   "cell_type": "code",
   "execution_count": 34,
   "metadata": {},
   "outputs": [
    {
     "name": "stdout",
     "output_type": "stream",
     "text": [
      "   age           job  marital  education default  balance housing loan  \\\n",
      "0   58    management  married   tertiary      no     2143     yes   no   \n",
      "1   44    technician   single  secondary      no       29     yes   no   \n",
      "2   33  entrepreneur  married  secondary      no        2     yes  yes   \n",
      "3   47   blue-collar  married    unknown      no     1506     yes   no   \n",
      "4   33       unknown   single    unknown      no        1      no   no   \n",
      "\n",
      "   contact  day month  duration  campaign  pdays  previous poutcome   y  \n",
      "0  unknown    5   may       261         1     -1         0  unknown  no  \n",
      "1  unknown    5   may       151         1     -1         0  unknown  no  \n",
      "2  unknown    5   may        76         1     -1         0  unknown  no  \n",
      "3  unknown    5   may        92         1     -1         0  unknown  no  \n",
      "4  unknown    5   may       198         1     -1         0  unknown  no  \n"
     ]
    }
   ],
   "source": [
    "# string columns are having data with double quotes\n",
    "# we need to remove them\n",
    "df_cleaned=df_cleaned.apply(lambda x: x.str.replace('\"','') if x.dtype==\"object\" else x)\n",
    "print(df_cleaned.head())\n",
    "df_cleaned.to_csv('data_cleaned.csv',index=False)"
   ]
  },
  {
   "cell_type": "code",
   "execution_count": 35,
   "metadata": {},
   "outputs": [],
   "source": [
    "# replacing the \"unknown\" value with \"\"\n",
    "df_cleaned=df_cleaned.apply(lambda x: x.str.replace('unknown','') if x.dtype==\"object\" else x)\n",
    "# replacing the empty string with null values\n",
    "df_cleaned.replace(\"\", np.nan, inplace=True)\n",
    "df_cleaned.to_csv('data_cleaned.csv',index=False)"
   ]
  },
  {
   "cell_type": "code",
   "execution_count": 37,
   "metadata": {},
   "outputs": [
    {
     "name": "stdout",
     "output_type": "stream",
     "text": [
      "age              0\n",
      "job            288\n",
      "marital          0\n",
      "education     1857\n",
      "default          0\n",
      "balance          0\n",
      "housing          0\n",
      "loan             0\n",
      "contact      13020\n",
      "day              0\n",
      "month            0\n",
      "duration         0\n",
      "campaign         0\n",
      "pdays            0\n",
      "previous         0\n",
      "poutcome     36959\n",
      "y                0\n",
      "dtype: int64\n"
     ]
    }
   ],
   "source": [
    "# checking for null values in the dataset\n",
    "print(df_cleaned.isnull().sum())\n"
   ]
  },
  {
   "cell_type": "code",
   "execution_count": 38,
   "metadata": {},
   "outputs": [
    {
     "name": "stderr",
     "output_type": "stream",
     "text": [
      "C:\\Users\\saisa\\AppData\\Local\\Temp\\ipykernel_19044\\3725330469.py:3: FutureWarning: Series.fillna with 'method' is deprecated and will raise in a future version. Use obj.ffill() or obj.bfill() instead.\n",
      "  df_cleaned['job'] = df_cleaned['job'].fillna(method='ffill').fillna(method='bfill')\n",
      "C:\\Users\\saisa\\AppData\\Local\\Temp\\ipykernel_19044\\3725330469.py:4: FutureWarning: Series.fillna with 'method' is deprecated and will raise in a future version. Use obj.ffill() or obj.bfill() instead.\n",
      "  df_cleaned['education'] = df_cleaned['education'].fillna(method='ffill').fillna(method='bfill')\n",
      "C:\\Users\\saisa\\AppData\\Local\\Temp\\ipykernel_19044\\3725330469.py:5: FutureWarning: Series.fillna with 'method' is deprecated and will raise in a future version. Use obj.ffill() or obj.bfill() instead.\n",
      "  df_cleaned['contact'] = df_cleaned['contact'].fillna(method='ffill').fillna(method='bfill')\n",
      "C:\\Users\\saisa\\AppData\\Local\\Temp\\ipykernel_19044\\3725330469.py:6: FutureWarning: Series.fillna with 'method' is deprecated and will raise in a future version. Use obj.ffill() or obj.bfill() instead.\n",
      "  df_cleaned['poutcome'] = df_cleaned['poutcome'].fillna(method='ffill').fillna(method='bfill')\n"
     ]
    }
   ],
   "source": [
    "# we got to know that some columns have missing values and all of them are string/ object type columns\n",
    "# so we replace them with either the previous or latter cell value\n",
    "df_cleaned['job'] = df_cleaned['job'].fillna(method='ffill').fillna(method='bfill')\n",
    "df_cleaned['education'] = df_cleaned['education'].fillna(method='ffill').fillna(method='bfill')\n",
    "df_cleaned['contact'] = df_cleaned['contact'].fillna(method='ffill').fillna(method='bfill')\n",
    "df_cleaned['poutcome'] = df_cleaned['poutcome'].fillna(method='ffill').fillna(method='bfill')"
   ]
  },
  {
   "cell_type": "code",
   "execution_count": 39,
   "metadata": {},
   "outputs": [
    {
     "name": "stdout",
     "output_type": "stream",
     "text": [
      "age          0\n",
      "job          0\n",
      "marital      0\n",
      "education    0\n",
      "default      0\n",
      "balance      0\n",
      "housing      0\n",
      "loan         0\n",
      "contact      0\n",
      "day          0\n",
      "month        0\n",
      "duration     0\n",
      "campaign     0\n",
      "pdays        0\n",
      "previous     0\n",
      "poutcome     0\n",
      "y            0\n",
      "dtype: int64\n"
     ]
    }
   ],
   "source": [
    "# cross checking if there are any missing values left\n",
    "print(df_cleaned.isnull().sum())"
   ]
  },
  {
   "cell_type": "code",
   "execution_count": 40,
   "metadata": {},
   "outputs": [],
   "source": [
    "# saving the work into the csv file previously made\n",
    "df_cleaned.to_csv('data_cleaned.csv',index=False)"
   ]
  }
 ],
 "metadata": {
  "kernelspec": {
   "display_name": "Python 3",
   "language": "python",
   "name": "python3"
  },
  "language_info": {
   "codemirror_mode": {
    "name": "ipython",
    "version": 3
   },
   "file_extension": ".py",
   "mimetype": "text/x-python",
   "name": "python",
   "nbconvert_exporter": "python",
   "pygments_lexer": "ipython3",
   "version": "3.11.9"
  }
 },
 "nbformat": 4,
 "nbformat_minor": 2
}
